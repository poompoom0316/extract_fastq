{
 "cells": [
  {
   "cell_type": "code",
   "execution_count": 4,
   "metadata": {
    "collapsed": true
   },
   "outputs": [],
   "source": [
    "%%bash\n",
    "bam_f=\"2_mapping/SRR2048229.bam\"\n",
    "samtools view \"${bam_f}\" | \\\n",
    "     bioawk -c sam '{if(!and($flag,4)) print \">\"$qname\"\"}' > mapped_sequence_list.txt\n"
   ]
  },
  {
   "cell_type": "code",
   "execution_count": 8,
   "metadata": {},
   "outputs": [
    {
     "name": "stdout",
     "output_type": "stream",
     "text": [
      "                   0\n0   >SRR2048229.3605\n1   >SRR2048229.3605\n2   >SRR2048229.3655\n3   >SRR2048229.3655\n4   >SRR2048229.3717\n5   >SRR2048229.3717\n6   >SRR2048229.3805\n7   >SRR2048229.3805\n8   >SRR2048229.3835\n9   >SRR2048229.3835\n10  >SRR2048229.3837\n11  >SRR2048229.3837\n12  >SRR2048229.3883\n13  >SRR2048229.3883\n14  >SRR2048229.3878\n15  >SRR2048229.3878\n16  >SRR2048229.3901\n17  >SRR2048229.3901\n18  >SRR2048229.3942\n19  >SRR2048229.3942\n20  >SRR2048229.4477\n21  >SRR2048229.4477\n22  >SRR2048229.6482\n23  >SRR2048229.6482\n24  >SRR2048229.9285\n25  >SRR2048229.9471\n['SRR2048229.3605' 'SRR2048229.3655' 'SRR2048229.3717' 'SRR2048229.3805'\n 'SRR2048229.3835' 'SRR2048229.3837' 'SRR2048229.3883' 'SRR2048229.3878'\n 'SRR2048229.3901' 'SRR2048229.3942' 'SRR2048229.4477' 'SRR2048229.6482'\n 'SRR2048229.9285' 'SRR2048229.9471']\n"
     ]
    }
   ],
   "source": [
    "import pandas as pd\n",
    "import pysam as ps\n",
    "\n",
    "path_list = \"mapped_sequence_list.txt\"\n",
    "df1 = pd.read_table(path_list, header=None)\n",
    "\n",
    "print(df1)\n",
    "\n",
    "list_use = df1.iloc[:,0].str.replace('>', '').unique()\n",
    "print(list_use)"
   ]
  },
  {
   "cell_type": "code",
   "execution_count": null,
   "metadata": {},
   "outputs": [
    {
     "name": "stdout",
     "output_type": "stream",
     "text": [
      "Found 9983 short sequences\n"
     ]
    },
    {
     "data": {
      "text/plain": [
       "9983"
      ]
     },
     "execution_count": 10,
     "metadata": {},
     "output_type": "execute_result"
    }
   ],
   "source": [
    "from Bio import SeqIO\n",
    "\n",
    "path_fastq = \"1_qc/SRR2048229.notail.fastq\"\n",
    "out_fastq = \"1_qc/SRR2048229_notail_notmapped.fastq\"\n",
    "\n",
    "\n",
    "short_sequences = [] # Setup an empty list\n",
    "for record in SeqIO.parse(path_fastq, \"fastq\"):\n",
    "    condition1 = len(record.seq) >= 100 # リード長は100以上で\n",
    "    condition2 = (list_use==record.id).sum() == 0  # listにマッチする配列の数が0ならば\n",
    "    if condition1&condition2:\n",
    "        # Add this record to our list\n",
    "        short_sequences.append(record) #ファイルに加えてしまう\n",
    "\n",
    "print(\"Found %i not mapped sequences\" % len(short_sequences))\n",
    "\n",
    "SeqIO.write(short_sequences, out_fastq, \"fastq\")"
   ]
  },
  {
   "cell_type": "code",
   "execution_count": null,
   "metadata": {},
   "outputs": [],
   "source": []
  }
 ],
 "metadata": {
  "kernelspec": {
   "display_name": "Python 2",
   "language": "python",
   "name": "python2"
  },
  "language_info": {
   "codemirror_mode": {
    "name": "ipython",
    "version": 2
   },
   "file_extension": ".py",
   "mimetype": "text/x-python",
   "name": "python",
   "nbconvert_exporter": "python",
   "pygments_lexer": "ipython2",
   "version": "2.7.6"
  }
 },
 "nbformat": 4,
 "nbformat_minor": 0
}
